{
 "cells": [
  {
   "cell_type": "code",
   "execution_count": 1,
   "metadata": {},
   "outputs": [
    {
     "name": "stderr",
     "output_type": "stream",
     "text": [
      "  0%|          | 3/1700 [00:00<02:15, 12.57it/s]"
     ]
    },
    {
     "name": "stdout",
     "output_type": "stream",
     "text": [
      "Erro ao processar reddit-virality-dataset/Ventile_20/ea9p6np4ldcc1.jpeg\n",
      "Erro: {TesseractNotFoundError(\"tesseract is not installed or it's not in your PATH. See README file for more information.\")}\n",
      "Erro ao processar reddit-virality-dataset/Ventile_20/x7o2a4vzp8cc1.jpeg\n",
      "Erro: {TesseractNotFoundError(\"tesseract is not installed or it's not in your PATH. See README file for more information.\")}\n",
      "Erro ao processar reddit-virality-dataset/Ventile_1/yz5avbuaohcc1.jpeg\n",
      "Erro: {TesseractNotFoundError(\"tesseract is not installed or it's not in your PATH. See README file for more information.\")}\n",
      "Erro ao processar reddit-virality-dataset/Ventile_1/f738top4qgcc1.jpeg\n",
      "Erro: {TesseractNotFoundError(\"tesseract is not installed or it's not in your PATH. See README file for more information.\")}\n",
      "Erro ao processar reddit-virality-dataset/Ventile_20/psp1ftqt35cc1.png\n",
      "Erro: {TesseractNotFoundError(\"tesseract is not installed or it's not in your PATH. See README file for more information.\")}\n"
     ]
    },
    {
     "name": "stderr",
     "output_type": "stream",
     "text": [
      "  0%|          | 6/1700 [00:00<01:30, 18.81it/s]"
     ]
    },
    {
     "name": "stdout",
     "output_type": "stream",
     "text": [
      "Erro ao processar reddit-virality-dataset/Ventile_1/w6m2p5d4bdcc1.png\n",
      "Erro: {TesseractNotFoundError(\"tesseract is not installed or it's not in your PATH. See README file for more information.\")}\n",
      "Erro ao processar reddit-virality-dataset/Ventile_20/omzjuz5m61cc1.jpeg\n",
      "Erro: {TesseractNotFoundError(\"tesseract is not installed or it's not in your PATH. See README file for more information.\")}\n",
      "Erro ao processar reddit-virality-dataset/Ventile_20/u4j3mqqv81cc1.jpeg\n",
      "Erro: {TesseractNotFoundError(\"tesseract is not installed or it's not in your PATH. See README file for more information.\")}\n"
     ]
    },
    {
     "name": "stderr",
     "output_type": "stream",
     "text": [
      "  1%|          | 13/1700 [00:00<01:29, 18.91it/s]"
     ]
    },
    {
     "name": "stdout",
     "output_type": "stream",
     "text": [
      "Erro ao processar reddit-virality-dataset/Ventile_20/yciitt13lvbc1.jpeg\n",
      "Erro: {TesseractNotFoundError(\"tesseract is not installed or it's not in your PATH. See README file for more information.\")}\n",
      "Erro ao processar reddit-virality-dataset/Ventile_1/4zkf2l2eq3cc1.jpeg\n",
      "Erro: {TesseractNotFoundError(\"tesseract is not installed or it's not in your PATH. See README file for more information.\")}\n",
      "Erro ao processar reddit-virality-dataset/Ventile_20/jqhu8o6wkmbc1.png\n",
      "Erro: {TesseractNotFoundError(\"tesseract is not installed or it's not in your PATH. See README file for more information.\")}\n",
      "Erro ao processar reddit-virality-dataset/Ventile_20/ddqduu5pakbc1.png\n",
      "Erro: {TesseractNotFoundError(\"tesseract is not installed or it's not in your PATH. See README file for more information.\")}\n",
      "Erro ao processar reddit-virality-dataset/Ventile_20/gt48dr3t0jbc1.jpeg\n",
      "Erro: {TesseractNotFoundError(\"tesseract is not installed or it's not in your PATH. See README file for more information.\")}\n",
      "Erro ao processar reddit-virality-dataset/Ventile_20/htbn4mk7mcbc1.jpeg\n",
      "Erro: {TesseractNotFoundError(\"tesseract is not installed or it's not in your PATH. See README file for more information.\")}\n",
      "Erro ao processar reddit-virality-dataset/Ventile_20/yqu0dbfmy7bc1.jpeg\n",
      "Erro: {TesseractNotFoundError(\"tesseract is not installed or it's not in your PATH. See README file for more information.\")}\n"
     ]
    },
    {
     "name": "stderr",
     "output_type": "stream",
     "text": [
      "  1%|          | 17/1700 [00:00<01:27, 19.26it/s]"
     ]
    },
    {
     "name": "stdout",
     "output_type": "stream",
     "text": [
      "Erro ao processar reddit-virality-dataset/Ventile_1/yv3qzbip0fbc1.png\n",
      "Erro: {TesseractNotFoundError(\"tesseract is not installed or it's not in your PATH. See README file for more information.\")}\n",
      "Erro ao processar reddit-virality-dataset/Ventile_20/8ptnqon7vzac1.png\n",
      "Erro: {TesseractNotFoundError(\"tesseract is not installed or it's not in your PATH. See README file for more information.\")}\n",
      "Erro ao processar reddit-virality-dataset/Ventile_20/pm6za6rspxac1.jpeg\n",
      "Erro: {TesseractNotFoundError(\"tesseract is not installed or it's not in your PATH. See README file for more information.\")}\n"
     ]
    },
    {
     "name": "stderr",
     "output_type": "stream",
     "text": [
      "  1%|          | 20/1700 [00:01<01:23, 20.23it/s]"
     ]
    },
    {
     "name": "stdout",
     "output_type": "stream",
     "text": [
      "Erro ao processar reddit-virality-dataset/Ventile_20/lcoo7izemqac1.jpeg\n",
      "Erro: {TesseractNotFoundError(\"tesseract is not installed or it's not in your PATH. See README file for more information.\")}\n",
      "Erro ao processar reddit-virality-dataset/Ventile_20/ipvondezanac1.png\n",
      "Erro: {TesseractNotFoundError(\"tesseract is not installed or it's not in your PATH. See README file for more information.\")}\n"
     ]
    },
    {
     "name": "stderr",
     "output_type": "stream",
     "text": [
      "  1%|▏         | 23/1700 [00:01<02:14, 12.43it/s]"
     ]
    },
    {
     "name": "stdout",
     "output_type": "stream",
     "text": [
      "Erro ao processar reddit-virality-dataset/Ventile_1/cq4urbl04zac1.png\n",
      "Erro: {TesseractNotFoundError(\"tesseract is not installed or it's not in your PATH. See README file for more information.\")}\n",
      "Erro ao processar reddit-virality-dataset/Ventile_20/oeap8zcvgkac1.png\n",
      "Erro: {TesseractNotFoundError(\"tesseract is not installed or it's not in your PATH. See README file for more information.\")}\n",
      "Erro ao processar reddit-virality-dataset/Ventile_20/8ey548loqdac1.jpeg\n",
      "Erro: {TesseractNotFoundError(\"tesseract is not installed or it's not in your PATH. See README file for more information.\")}\n",
      "Erro ao processar reddit-virality-dataset/Ventile_20/h32mmpjwddac1.jpeg\n",
      "Erro: {TesseractNotFoundError(\"tesseract is not installed or it's not in your PATH. See README file for more information.\")}\n",
      "Erro ao processar reddit-virality-dataset/Ventile_1/owxbfcbeqmac1.jpeg\n",
      "Erro: {TesseractNotFoundError(\"tesseract is not installed or it's not in your PATH. See README file for more information.\")}\n"
     ]
    },
    {
     "name": "stderr",
     "output_type": "stream",
     "text": [
      "  2%|▏         | 26/1700 [00:01<01:59, 13.99it/s]"
     ]
    },
    {
     "name": "stdout",
     "output_type": "stream",
     "text": [
      "Erro ao processar reddit-virality-dataset/Ventile_1/a942wiupylac1.jpeg\n",
      "Erro: {TesseractNotFoundError(\"tesseract is not installed or it's not in your PATH. See README file for more information.\")}\n",
      "Erro ao processar reddit-virality-dataset/Ventile_20/y5xi9p9oa7ac1.jpeg\n",
      "Erro: {TesseractNotFoundError(\"tesseract is not installed or it's not in your PATH. See README file for more information.\")}\n"
     ]
    },
    {
     "name": "stderr",
     "output_type": "stream",
     "text": [
      "  2%|▏         | 34/1700 [00:02<02:13, 12.51it/s]"
     ]
    },
    {
     "name": "stdout",
     "output_type": "stream",
     "text": [
      "Erro ao processar reddit-virality-dataset/Ventile_20/bsrwmu1rq3ac1.png\n",
      "Erro: {TesseractNotFoundError(\"tesseract is not installed or it's not in your PATH. See README file for more information.\")}\n",
      "Erro ao processar reddit-virality-dataset/Ventile_20/ybpu0ylmyq9c1.png\n",
      "Erro: {TesseractNotFoundError(\"tesseract is not installed or it's not in your PATH. See README file for more information.\")}\n",
      "Erro ao processar reddit-virality-dataset/Ventile_20/lutgugajop9c1.jpeg\n",
      "Erro: {TesseractNotFoundError(\"tesseract is not installed or it's not in your PATH. See README file for more information.\")}\n",
      "Erro ao processar reddit-virality-dataset/Ventile_20/g8wgibvk9o9c1.jpeg\n",
      "Erro: {TesseractNotFoundError(\"tesseract is not installed or it's not in your PATH. See README file for more information.\")}\n",
      "Erro ao processar reddit-virality-dataset/Ventile_20/6i43jqbfak9c1.jpeg\n",
      "Erro: {TesseractNotFoundError(\"tesseract is not installed or it's not in your PATH. See README file for more information.\")}\n",
      "Erro ao processar reddit-virality-dataset/Ventile_20/5t2s0qxopf9c1.jpeg\n",
      "Erro: {TesseractNotFoundError(\"tesseract is not installed or it's not in your PATH. See README file for more information.\")}\n",
      "Erro ao processar reddit-virality-dataset/Ventile_20/ots6q86r1u4b1.jpg\n",
      "Erro: {TesseractNotFoundError(\"tesseract is not installed or it's not in your PATH. See README file for more information.\")}\n",
      "Erro ao processar reddit-virality-dataset/Ventile_20/imqfq5ouq89c1.jpeg\n",
      "Erro: {TesseractNotFoundError(\"tesseract is not installed or it's not in your PATH. See README file for more information.\")}\n",
      "Erro ao processar reddit-virality-dataset/Ventile_20/7oteio1fcv8c1.png\n",
      "Erro: {TesseractNotFoundError(\"tesseract is not installed or it's not in your PATH. See README file for more information.\")}\n"
     ]
    },
    {
     "name": "stderr",
     "output_type": "stream",
     "text": [
      "  2%|▏         | 40/1700 [00:02<01:32, 17.98it/s]"
     ]
    },
    {
     "name": "stdout",
     "output_type": "stream",
     "text": [
      "Erro ao processar reddit-virality-dataset/Ventile_20/1dklxoo45v8c1.png\n",
      "Erro: {TesseractNotFoundError(\"tesseract is not installed or it's not in your PATH. See README file for more information.\")}\n",
      "Erro ao processar reddit-virality-dataset/Ventile_20/g002hguckn8c1.png\n",
      "Erro: {TesseractNotFoundError(\"tesseract is not installed or it's not in your PATH. See README file for more information.\")}\n",
      "Erro ao processar reddit-virality-dataset/Ventile_20/zxdsi4t0oj8c1.jpeg\n",
      "Erro: {TesseractNotFoundError(\"tesseract is not installed or it's not in your PATH. See README file for more information.\")}\n",
      "Erro ao processar reddit-virality-dataset/Ventile_20/j182132bqg8c1.png\n",
      "Erro: {TesseractNotFoundError(\"tesseract is not installed or it's not in your PATH. See README file for more information.\")}\n",
      "Erro ao processar reddit-virality-dataset/Ventile_20/joy7dx1odbcc1.jpeg\n",
      "Erro: {TesseractNotFoundError(\"tesseract is not installed or it's not in your PATH. See README file for more information.\")}\n",
      "Erro ao processar reddit-virality-dataset/Ventile_20/g6rgbq48h8cc1.jpeg\n",
      "Erro: {TesseractNotFoundError(\"tesseract is not installed or it's not in your PATH. See README file for more information.\")}\n"
     ]
    },
    {
     "name": "stderr",
     "output_type": "stream",
     "text": [
      "  3%|▎         | 46/1700 [00:02<01:21, 20.37it/s]"
     ]
    },
    {
     "name": "stdout",
     "output_type": "stream",
     "text": [
      "Erro ao processar reddit-virality-dataset/Ventile_20/s2hvuxb648cc1.jpeg\n",
      "Erro: {TesseractNotFoundError(\"tesseract is not installed or it's not in your PATH. See README file for more information.\")}\n",
      "Erro ao processar reddit-virality-dataset/Ventile_20/cn8h7pq3f8cc1.jpeg\n",
      "Erro: {TesseractNotFoundError(\"tesseract is not installed or it's not in your PATH. See README file for more information.\")}\n",
      "Erro ao processar reddit-virality-dataset/Ventile_1/azweps80mhcc1.png\n",
      "Erro: {TesseractNotFoundError(\"tesseract is not installed or it's not in your PATH. See README file for more information.\")}\n",
      "Erro ao processar reddit-virality-dataset/Ventile_1/6no0kyb1fhcc1.jpeg\n",
      "Erro: {TesseractNotFoundError(\"tesseract is not installed or it's not in your PATH. See README file for more information.\")}\n",
      "Erro ao processar reddit-virality-dataset/Ventile_1/2x1hd3u61ecc1.png\n",
      "Erro: {TesseractNotFoundError(\"tesseract is not installed or it's not in your PATH. See README file for more information.\")}\n"
     ]
    },
    {
     "name": "stderr",
     "output_type": "stream",
     "text": [
      "  3%|▎         | 49/1700 [00:03<01:37, 16.90it/s]"
     ]
    },
    {
     "name": "stdout",
     "output_type": "stream",
     "text": [
      "Erro ao processar reddit-virality-dataset/Ventile_20/o9w2nrn7e2cc1.jpeg\n",
      "Erro: {TesseractNotFoundError(\"tesseract is not installed or it's not in your PATH. See README file for more information.\")}\n",
      "Erro ao processar reddit-virality-dataset/Ventile_1/1xpp9m6wmdcc1.jpeg\n",
      "Erro: {TesseractNotFoundError(\"tesseract is not installed or it's not in your PATH. See README file for more information.\")}\n",
      "Erro ao processar reddit-virality-dataset/Ventile_1/yfi0651qaccc1.jpeg\n",
      "Erro: {TesseractNotFoundError(\"tesseract is not installed or it's not in your PATH. See README file for more information.\")}\n",
      "Erro ao processar reddit-virality-dataset/Ventile_1/vtyjtygj8gcc1.jpeg\n",
      "Erro: {TesseractNotFoundError(\"tesseract is not installed or it's not in your PATH. See README file for more information.\")}\n",
      "Erro ao processar reddit-virality-dataset/Ventile_20/1hmevbbenybc1.jpeg\n",
      "Erro: {TesseractNotFoundError(\"tesseract is not installed or it's not in your PATH. See README file for more information.\")}\n"
     ]
    },
    {
     "name": "stderr",
     "output_type": "stream",
     "text": [
      "  3%|▎         | 54/1700 [00:03<01:22, 19.92it/s]"
     ]
    },
    {
     "name": "stdout",
     "output_type": "stream",
     "text": [
      "Erro ao processar reddit-virality-dataset/Ventile_20/jg00bt7z2ybc1.jpeg\n",
      "Erro: {TesseractNotFoundError(\"tesseract is not installed or it's not in your PATH. See README file for more information.\")}\n",
      "Erro ao processar reddit-virality-dataset/Ventile_1/y4h8n97hmccc1.jpeg\n",
      "Erro: {TesseractNotFoundError(\"tesseract is not installed or it's not in your PATH. See README file for more information.\")}\n",
      "Erro ao processar reddit-virality-dataset/Ventile_1/ass0huz308cc1.png\n",
      "Erro: {TesseractNotFoundError(\"tesseract is not installed or it's not in your PATH. See README file for more information.\")}\n",
      "Erro ao processar reddit-virality-dataset/Ventile_20/ut5p5074bwbc1.png\n",
      "Erro: {TesseractNotFoundError(\"tesseract is not installed or it's not in your PATH. See README file for more information.\")}\n"
     ]
    },
    {
     "name": "stderr",
     "output_type": "stream",
     "text": [
      "  4%|▎         | 60/1700 [00:03<01:16, 21.54it/s]"
     ]
    },
    {
     "name": "stdout",
     "output_type": "stream",
     "text": [
      "Erro ao processar reddit-virality-dataset/Ventile_1/n2na38hnpccc1.jpeg\n",
      "Erro: {TesseractNotFoundError(\"tesseract is not installed or it's not in your PATH. See README file for more information.\")}\n",
      "Erro ao processar reddit-virality-dataset/Ventile_20/26kga7fxytbc1.png\n",
      "Erro: {TesseractNotFoundError(\"tesseract is not installed or it's not in your PATH. See README file for more information.\")}\n",
      "Erro ao processar reddit-virality-dataset/Ventile_20/es50s2brztbc1.png\n",
      "Erro: {TesseractNotFoundError(\"tesseract is not installed or it's not in your PATH. See README file for more information.\")}\n",
      "Erro ao processar reddit-virality-dataset/Ventile_20/9yhyzia5csbc1.png\n",
      "Erro: {TesseractNotFoundError(\"tesseract is not installed or it's not in your PATH. See README file for more information.\")}\n",
      "Erro ao processar reddit-virality-dataset/Ventile_20/zsc1bav7wrbc1.jpeg\n",
      "Erro: {TesseractNotFoundError(\"tesseract is not installed or it's not in your PATH. See README file for more information.\")}\n",
      "Erro ao processar reddit-virality-dataset/Ventile_1/tocb8xapgacc1.jpeg\n",
      "Erro: {TesseractNotFoundError(\"tesseract is not installed or it's not in your PATH. See README file for more information.\")}\n"
     ]
    },
    {
     "name": "stderr",
     "output_type": "stream",
     "text": [
      "  4%|▍         | 66/1700 [00:03<01:13, 22.24it/s]"
     ]
    },
    {
     "name": "stdout",
     "output_type": "stream",
     "text": [
      "Erro ao processar reddit-virality-dataset/Ventile_20/vo3jj528oqbc1.jpeg\n",
      "Erro: {TesseractNotFoundError(\"tesseract is not installed or it's not in your PATH. See README file for more information.\")}\n",
      "Erro ao processar reddit-virality-dataset/Ventile_1/sdv9f5rjoacc1.png\n",
      "Erro: {TesseractNotFoundError(\"tesseract is not installed or it's not in your PATH. See README file for more information.\")}\n",
      "Erro ao processar reddit-virality-dataset/Ventile_1/91gig6i2o7cc1.jpeg\n",
      "Erro: {TesseractNotFoundError(\"tesseract is not installed or it's not in your PATH. See README file for more information.\")}\n",
      "Erro ao processar reddit-virality-dataset/Ventile_1/7t78yos82acc1.jpeg\n",
      "Erro: {TesseractNotFoundError(\"tesseract is not installed or it's not in your PATH. See README file for more information.\")}\n",
      "Erro ao processar reddit-virality-dataset/Ventile_20/4q38krnpeobc1.jpeg\n",
      "Erro: {TesseractNotFoundError(\"tesseract is not installed or it's not in your PATH. See README file for more information.\")}\n"
     ]
    },
    {
     "name": "stderr",
     "output_type": "stream",
     "text": [
      "  4%|▍         | 69/1700 [00:04<01:23, 19.42it/s]"
     ]
    },
    {
     "name": "stdout",
     "output_type": "stream",
     "text": [
      "Erro ao processar reddit-virality-dataset/Ventile_20/tvuoh49grnbc1.jpeg\n",
      "Erro: {TesseractNotFoundError(\"tesseract is not installed or it's not in your PATH. See README file for more information.\")}\n",
      "Erro ao processar reddit-virality-dataset/Ventile_1/3liy79uuv1cc1.jpeg\n",
      "Erro: {TesseractNotFoundError(\"tesseract is not installed or it's not in your PATH. See README file for more information.\")}\n",
      "Erro ao processar reddit-virality-dataset/Ventile_1/dzaoaud6jzbc1.jpeg\n",
      "Erro: {TesseractNotFoundError(\"tesseract is not installed or it's not in your PATH. See README file for more information.\")}\n",
      "Erro ao processar reddit-virality-dataset/Ventile_20/udkkhokhclbc1.jpeg\n",
      "Erro: {TesseractNotFoundError(\"tesseract is not installed or it's not in your PATH. See README file for more information.\")}\n",
      "Erro ao processar reddit-virality-dataset/Ventile_20/4ec24x05dibc1.jpeg\n",
      "Erro: {TesseractNotFoundError(\"tesseract is not installed or it's not in your PATH. See README file for more information.\")}\n"
     ]
    },
    {
     "name": "stderr",
     "output_type": "stream",
     "text": [
      "  4%|▍         | 75/1700 [00:04<01:31, 17.68it/s]"
     ]
    },
    {
     "name": "stdout",
     "output_type": "stream",
     "text": [
      "Erro ao processar reddit-virality-dataset/Ventile_20/on8mc9usihbc1.jpeg\n",
      "Erro: {TesseractNotFoundError(\"tesseract is not installed or it's not in your PATH. See README file for more information.\")}\n",
      "Erro ao processar reddit-virality-dataset/Ventile_20/89l55sa3thbc1.jpeg\n",
      "Erro: {TesseractNotFoundError(\"tesseract is not installed or it's not in your PATH. See README file for more information.\")}\n",
      "Erro ao processar reddit-virality-dataset/Ventile_1/wyjtrdq5ksbc1.jpeg\n",
      "Erro: {TesseractNotFoundError(\"tesseract is not installed or it's not in your PATH. See README file for more information.\")}\n",
      "Erro ao processar reddit-virality-dataset/Ventile_20/ravispbr3gbc1.jpeg\n",
      "Erro: {TesseractNotFoundError(\"tesseract is not installed or it's not in your PATH. See README file for more information.\")}\n"
     ]
    },
    {
     "name": "stderr",
     "output_type": "stream",
     "text": [
      "  5%|▍         | 80/1700 [00:04<01:22, 19.69it/s]"
     ]
    },
    {
     "name": "stdout",
     "output_type": "stream",
     "text": [
      "Erro ao processar reddit-virality-dataset/Ventile_20/un29h7dlqebc1.png\n",
      "Erro: {TesseractNotFoundError(\"tesseract is not installed or it's not in your PATH. See README file for more information.\")}\n",
      "Erro ao processar reddit-virality-dataset/Ventile_20/jmpth0fxaebc1.jpeg\n",
      "Erro: {TesseractNotFoundError(\"tesseract is not installed or it's not in your PATH. See README file for more information.\")}\n",
      "Erro ao processar reddit-virality-dataset/Ventile_20/jetvslm4gbbc1.jpeg\n",
      "Erro: {TesseractNotFoundError(\"tesseract is not installed or it's not in your PATH. See README file for more information.\")}\n",
      "Erro ao processar reddit-virality-dataset/Ventile_20/pivwdyvarabc1.jpeg\n",
      "Erro: {TesseractNotFoundError(\"tesseract is not installed or it's not in your PATH. See README file for more information.\")}\n",
      "Erro ao processar reddit-virality-dataset/Ventile_20/nmyscojf3abc1.jpeg\n",
      "Erro: {TesseractNotFoundError(\"tesseract is not installed or it's not in your PATH. See README file for more information.\")}\n",
      "Erro ao processar reddit-virality-dataset/Ventile_1/umslr65nhvbc1.jpeg\n",
      "Erro: {TesseractNotFoundError(\"tesseract is not installed or it's not in your PATH. See README file for more information.\")}\n"
     ]
    },
    {
     "name": "stderr",
     "output_type": "stream",
     "text": [
      "  5%|▌         | 87/1700 [00:05<01:31, 17.60it/s]"
     ]
    },
    {
     "name": "stdout",
     "output_type": "stream",
     "text": [
      "Erro ao processar reddit-virality-dataset/Ventile_1/ibg60plpnpbc1.jpeg\n",
      "Erro: {TesseractNotFoundError(\"tesseract is not installed or it's not in your PATH. See README file for more information.\")}\n",
      "Erro ao processar reddit-virality-dataset/Ventile_1/btj7zhsizobc1.jpeg\n",
      "Erro: {TesseractNotFoundError(\"tesseract is not installed or it's not in your PATH. See README file for more information.\")}\n",
      "Erro ao processar reddit-virality-dataset/Ventile_20/ach2yu7ds7bc1.jpeg\n",
      "Erro: {TesseractNotFoundError(\"tesseract is not installed or it's not in your PATH. See README file for more information.\")}\n",
      "Erro ao processar reddit-virality-dataset/Ventile_20/gftdy5mml6bc1.jpeg\n",
      "Erro: {TesseractNotFoundError(\"tesseract is not installed or it's not in your PATH. See README file for more information.\")}\n",
      "Erro ao processar reddit-virality-dataset/Ventile_1/ol4d5o1gxobc1.jpeg\n",
      "Erro: {TesseractNotFoundError(\"tesseract is not installed or it's not in your PATH. See README file for more information.\")}\n",
      "Erro ao processar reddit-virality-dataset/Ventile_20/8fi6h47145bc1.jpeg\n",
      "Erro: {TesseractNotFoundError(\"tesseract is not installed or it's not in your PATH. See README file for more information.\")}\n",
      "Erro ao processar reddit-virality-dataset/Ventile_1/ilk1920e3ibc1.jpeg\n",
      "Erro: {TesseractNotFoundError(\"tesseract is not installed or it's not in your PATH. See README file for more information.\")}\n"
     ]
    },
    {
     "name": "stderr",
     "output_type": "stream",
     "text": [
      "  6%|▌         | 94/1700 [00:05<01:15, 21.25it/s]"
     ]
    },
    {
     "name": "stdout",
     "output_type": "stream",
     "text": [
      "Erro ao processar reddit-virality-dataset/Ventile_20/3eud94v3u0bc1.jpeg\n",
      "Erro: {TesseractNotFoundError(\"tesseract is not installed or it's not in your PATH. See README file for more information.\")}\n",
      "Erro ao processar reddit-virality-dataset/Ventile_20/8xbzc621f0bc1.jpeg\n",
      "Erro: {TesseractNotFoundError(\"tesseract is not installed or it's not in your PATH. See README file for more information.\")}\n",
      "Erro ao processar reddit-virality-dataset/Ventile_1/sv5gl2ar2ibc1.jpeg\n",
      "Erro: {TesseractNotFoundError(\"tesseract is not installed or it's not in your PATH. See README file for more information.\")}\n",
      "Erro ao processar reddit-virality-dataset/Ventile_20/qhey8q458wac1.jpeg\n",
      "Erro: {TesseractNotFoundError(\"tesseract is not installed or it's not in your PATH. See README file for more information.\")}\n",
      "Erro ao processar reddit-virality-dataset/Ventile_1/1rog5fxfkabc1.jpeg\n",
      "Erro: {TesseractNotFoundError(\"tesseract is not installed or it's not in your PATH. See README file for more information.\")}\n"
     ]
    },
    {
     "name": "stderr",
     "output_type": "stream",
     "text": [
      "  6%|▌         | 97/1700 [00:05<01:22, 19.45it/s]"
     ]
    },
    {
     "name": "stdout",
     "output_type": "stream",
     "text": [
      "Erro ao processar reddit-virality-dataset/Ventile_1/x9z975rkr9bc1.jpeg\n",
      "Erro: {TesseractNotFoundError(\"tesseract is not installed or it's not in your PATH. See README file for more information.\")}\n",
      "Erro ao processar reddit-virality-dataset/Ventile_1/78qi4zaxt7bc1.jpeg\n",
      "Erro: {TesseractNotFoundError(\"tesseract is not installed or it's not in your PATH. See README file for more information.\")}\n",
      "Erro ao processar reddit-virality-dataset/Ventile_20/sud1wfkkwoac1.jpeg\n",
      "Erro: {TesseractNotFoundError(\"tesseract is not installed or it's not in your PATH. See README file for more information.\")}\n",
      "Erro ao processar reddit-virality-dataset/Ventile_20/0nzx5qy1cpac1.jpeg\n",
      "Erro: {TesseractNotFoundError(\"tesseract is not installed or it's not in your PATH. See README file for more information.\")}\n",
      "Erro ao processar reddit-virality-dataset/Ventile_20/k4jdu3mo3pac1.png\n",
      "Erro: {TesseractNotFoundError(\"tesseract is not installed or it's not in your PATH. See README file for more information.\")}\n"
     ]
    },
    {
     "name": "stderr",
     "output_type": "stream",
     "text": [
      "  6%|▌         | 103/1700 [00:05<01:21, 19.63it/s]"
     ]
    },
    {
     "name": "stdout",
     "output_type": "stream",
     "text": [
      "Erro ao processar reddit-virality-dataset/Ventile_1/g45nq5rfk7bc1.jpeg\n",
      "Erro: {TesseractNotFoundError(\"tesseract is not installed or it's not in your PATH. See README file for more information.\")}\n",
      "Erro ao processar reddit-virality-dataset/Ventile_20/n4yklxmoynac1.jpeg\n",
      "Erro: {TesseractNotFoundError(\"tesseract is not installed or it's not in your PATH. See README file for more information.\")}\n",
      "Erro ao processar reddit-virality-dataset/Ventile_20/1s11p1ulgmac1.jpeg\n",
      "Erro: {TesseractNotFoundError(\"tesseract is not installed or it's not in your PATH. See README file for more information.\")}\n",
      "Erro ao processar reddit-virality-dataset/Ventile_1/nr2uzgzsn3bc1.jpeg\n",
      "Erro: {TesseractNotFoundError(\"tesseract is not installed or it's not in your PATH. See README file for more information.\")}\n"
     ]
    },
    {
     "name": "stderr",
     "output_type": "stream",
     "text": [
      "  6%|▌         | 106/1700 [00:06<01:17, 20.59it/s]"
     ]
    },
    {
     "name": "stdout",
     "output_type": "stream",
     "text": [
      "Erro ao processar reddit-virality-dataset/Ventile_1/f10jzvltp3bc1.png\n",
      "Erro: {TesseractNotFoundError(\"tesseract is not installed or it's not in your PATH. See README file for more information.\")}\n",
      "Erro ao processar reddit-virality-dataset/Ventile_1/kkzny749o2bc1.png\n",
      "Erro: {TesseractNotFoundError(\"tesseract is not installed or it's not in your PATH. See README file for more information.\")}\n",
      "Erro ao processar reddit-virality-dataset/Ventile_1/gyrct0sev3bc1.jpeg\n",
      "Erro: {TesseractNotFoundError(\"tesseract is not installed or it's not in your PATH. See README file for more information.\")}\n",
      "Erro ao processar reddit-virality-dataset/Ventile_1/hpw0w1bm91bc1.jpeg\n",
      "Erro: {TesseractNotFoundError(\"tesseract is not installed or it's not in your PATH. See README file for more information.\")}\n",
      "Erro ao processar reddit-virality-dataset/Ventile_20/tzsn2mr18gac1.jpeg\n",
      "Erro: {TesseractNotFoundError(\"tesseract is not installed or it's not in your PATH. See README file for more information.\")}\n"
     ]
    },
    {
     "name": "stderr",
     "output_type": "stream",
     "text": [
      "  7%|▋         | 112/1700 [00:06<01:11, 22.10it/s]"
     ]
    },
    {
     "name": "stdout",
     "output_type": "stream",
     "text": [
      "Erro ao processar reddit-virality-dataset/Ventile_1/59940ogl1vac1.jpeg\n",
      "Erro: {TesseractNotFoundError(\"tesseract is not installed or it's not in your PATH. See README file for more information.\")}\n",
      "Erro ao processar reddit-virality-dataset/Ventile_20/8z3kxhwncfac1.jpeg\n",
      "Erro: {TesseractNotFoundError(\"tesseract is not installed or it's not in your PATH. See README file for more information.\")}\n",
      "Erro ao processar reddit-virality-dataset/Ventile_1/1nx2mhhtiuac1.jpeg\n",
      "Erro: {TesseractNotFoundError(\"tesseract is not installed or it's not in your PATH. See README file for more information.\")}\n",
      "Erro ao processar reddit-virality-dataset/Ventile_20/lbtkcyn0x8ac1.jpeg\n",
      "Erro: {TesseractNotFoundError(\"tesseract is not installed or it's not in your PATH. See README file for more information.\")}\n",
      "Erro ao processar reddit-virality-dataset/Ventile_20/qea9g91388ac1.jpeg\n",
      "Erro: {TesseractNotFoundError(\"tesseract is not installed or it's not in your PATH. See README file for more information.\")}\n"
     ]
    },
    {
     "name": "stderr",
     "output_type": "stream",
     "text": [
      "  7%|▋         | 115/1700 [00:06<01:22, 19.10it/s]"
     ]
    },
    {
     "name": "stdout",
     "output_type": "stream",
     "text": [
      "Erro ao processar reddit-virality-dataset/Ventile_1/f0om4mjjeqac1.jpeg\n",
      "Erro: {TesseractNotFoundError(\"tesseract is not installed or it's not in your PATH. See README file for more information.\")}\n",
      "Erro ao processar reddit-virality-dataset/Ventile_20/6uqsyhv9l4ac1.jpeg\n",
      "Erro: {TesseractNotFoundError(\"tesseract is not installed or it's not in your PATH. See README file for more information.\")}\n",
      "Erro ao processar reddit-virality-dataset/Ventile_20/5wngpdepc4ac1.jpeg\n",
      "Erro: {TesseractNotFoundError(\"tesseract is not installed or it's not in your PATH. See README file for more information.\")}\n"
     ]
    },
    {
     "name": "stderr",
     "output_type": "stream",
     "text": [
      "  7%|▋         | 121/1700 [00:06<01:22, 19.24it/s]"
     ]
    },
    {
     "name": "stdout",
     "output_type": "stream",
     "text": [
      "Erro ao processar reddit-virality-dataset/Ventile_1/i3jo1uk90oac1.png\n",
      "Erro: {TesseractNotFoundError(\"tesseract is not installed or it's not in your PATH. See README file for more information.\")}\n",
      "Erro ao processar reddit-virality-dataset/Ventile_20/D6T8n5S.jpeg\n",
      "Erro: {TesseractNotFoundError(\"tesseract is not installed or it's not in your PATH. See README file for more information.\")}\n",
      "Erro ao processar reddit-virality-dataset/Ventile_1/1wbxos5sdhac1.jpeg\n",
      "Erro: {TesseractNotFoundError(\"tesseract is not installed or it's not in your PATH. See README file for more information.\")}\n",
      "Erro ao processar reddit-virality-dataset/Ventile_20/aeyxvcjno0ac1.jpeg\n",
      "Erro: {TesseractNotFoundError(\"tesseract is not installed or it's not in your PATH. See README file for more information.\")}\n",
      "Erro ao processar reddit-virality-dataset/Ventile_1/vi332ta7ikac1.jpeg\n",
      "Erro: {TesseractNotFoundError(\"tesseract is not installed or it's not in your PATH. See README file for more information.\")}\n"
     ]
    },
    {
     "name": "stderr",
     "output_type": "stream",
     "text": [
      "  7%|▋         | 124/1700 [00:07<01:30, 17.37it/s]"
     ]
    },
    {
     "name": "stdout",
     "output_type": "stream",
     "text": [
      "Erro ao processar reddit-virality-dataset/Ventile_20/t83co9u9vz9c1.jpeg\n",
      "Erro: {TesseractNotFoundError(\"tesseract is not installed or it's not in your PATH. See README file for more information.\")}\n",
      "Erro ao processar reddit-virality-dataset/Ventile_20/3a0io0xhby9c1.jpeg\n",
      "Erro: {TesseractNotFoundError(\"tesseract is not installed or it's not in your PATH. See README file for more information.\")}\n",
      "Erro ao processar reddit-virality-dataset/Ventile_1/qpgsw3t7oiac1.jpeg\n",
      "Erro: {TesseractNotFoundError(\"tesseract is not installed or it's not in your PATH. See README file for more information.\")}\n",
      "Erro ao processar reddit-virality-dataset/Ventile_1/5mwyrjd69iac1.png\n",
      "Erro: {TesseractNotFoundError(\"tesseract is not installed or it's not in your PATH. See README file for more information.\")}\n",
      "Erro ao processar reddit-virality-dataset/Ventile_1/jl1de3tdxhac1.png\n",
      "Erro: {TesseractNotFoundError(\"tesseract is not installed or it's not in your PATH. See README file for more information.\")}\n"
     ]
    },
    {
     "name": "stderr",
     "output_type": "stream",
     "text": [
      "  8%|▊         | 131/1700 [00:07<01:13, 21.38it/s]"
     ]
    },
    {
     "name": "stdout",
     "output_type": "stream",
     "text": [
      "Erro ao processar reddit-virality-dataset/Ventile_20/19oas3aqnx9c1.jpeg\n",
      "Erro: {TesseractNotFoundError(\"tesseract is not installed or it's not in your PATH. See README file for more information.\")}\n",
      "Erro ao processar reddit-virality-dataset/Ventile_20/8b5wfuh2qw9c1.png\n",
      "Erro: {TesseractNotFoundError(\"tesseract is not installed or it's not in your PATH. See README file for more information.\")}\n",
      "Erro ao processar reddit-virality-dataset/Ventile_1/ngwjtsmn8cac1.jpeg\n",
      "Erro: {TesseractNotFoundError(\"tesseract is not installed or it's not in your PATH. See README file for more information.\")}\n",
      "Erro ao processar reddit-virality-dataset/Ventile_1/4b39w08ce9ac1.png\n",
      "Erro: {TesseractNotFoundError(\"tesseract is not installed or it's not in your PATH. See README file for more information.\")}\n",
      "Erro ao processar reddit-virality-dataset/Ventile_20/29i5eci7pzua1.jpg\n",
      "Erro: {TesseractNotFoundError(\"tesseract is not installed or it's not in your PATH. See README file for more information.\")}\n",
      "Erro ao processar reddit-virality-dataset/Ventile_20/fivv3qirmsua1.jpg\n",
      "Erro: {TesseractNotFoundError(\"tesseract is not installed or it's not in your PATH. See README file for more information.\")}\n"
     ]
    },
    {
     "name": "stderr",
     "output_type": "stream",
     "text": [
      "  8%|▊         | 138/1700 [00:07<01:26, 18.15it/s]"
     ]
    },
    {
     "name": "stdout",
     "output_type": "stream",
     "text": [
      "Erro ao processar reddit-virality-dataset/Ventile_20/f4tyjk7u7hua1.png\n",
      "Erro: {TesseractNotFoundError(\"tesseract is not installed or it's not in your PATH. See README file for more information.\")}\n",
      "Erro ao processar reddit-virality-dataset/Ventile_20/htyfqjnnprta1.jpg\n",
      "Erro: {TesseractNotFoundError(\"tesseract is not installed or it's not in your PATH. See README file for more information.\")}\n",
      "Erro ao processar reddit-virality-dataset/Ventile_20/9n9gmh283jta1.jpg\n",
      "Erro: {TesseractNotFoundError(\"tesseract is not installed or it's not in your PATH. See README file for more information.\")}\n",
      "Erro ao processar reddit-virality-dataset/Ventile_20/n8fze7s9w1ta1.png\n",
      "Erro: {TesseractNotFoundError(\"tesseract is not installed or it's not in your PATH. See README file for more information.\")}\n",
      "Erro ao processar reddit-virality-dataset/Ventile_20/da7xpx1h2zsa1.jpg\n",
      "Erro: {TesseractNotFoundError(\"tesseract is not installed or it's not in your PATH. See README file for more information.\")}\n",
      "Erro ao processar reddit-virality-dataset/Ventile_1/mcfxho6auesa1.png\n",
      "Erro: {TesseractNotFoundError(\"tesseract is not installed or it's not in your PATH. See README file for more information.\")}\n"
     ]
    },
    {
     "name": "stderr",
     "output_type": "stream",
     "text": [
      "\n"
     ]
    },
    {
     "ename": "KeyboardInterrupt",
     "evalue": "",
     "output_type": "error",
     "traceback": [
      "\u001b[31m---------------------------------------------------------------------------\u001b[39m",
      "\u001b[31mAttributeError\u001b[39m                            Traceback (most recent call last)",
      "\u001b[36mFile \u001b[39m\u001b[32m/usr/lib/python3/dist-packages/PIL/ImageFile.py:536\u001b[39m, in \u001b[36m_save\u001b[39m\u001b[34m(im, fp, tile, bufsize)\u001b[39m\n\u001b[32m    535\u001b[39m \u001b[38;5;28;01mtry\u001b[39;00m:\n\u001b[32m--> \u001b[39m\u001b[32m536\u001b[39m     fh = \u001b[43mfp\u001b[49m\u001b[43m.\u001b[49m\u001b[43mfileno\u001b[49m()\n\u001b[32m    537\u001b[39m     fp.flush()\n",
      "\u001b[31mAttributeError\u001b[39m: '_idat' object has no attribute 'fileno'",
      "\nDuring handling of the above exception, another exception occurred:\n",
      "\u001b[31mKeyboardInterrupt\u001b[39m                         Traceback (most recent call last)",
      "\u001b[36mCell\u001b[39m\u001b[36m \u001b[39m\u001b[32mIn[1]\u001b[39m\u001b[32m, line 36\u001b[39m\n\u001b[32m     34\u001b[39m \u001b[38;5;28;01mif\u001b[39;00m os.path.isfile(img_path):\n\u001b[32m     35\u001b[39m     \u001b[38;5;28;01mtry\u001b[39;00m:\n\u001b[32m---> \u001b[39m\u001b[32m36\u001b[39m         df.at[idx, \u001b[33m\"\u001b[39m\u001b[33mocr_text\u001b[39m\u001b[33m\"\u001b[39m] = \u001b[43mextract_text_pytesseract\u001b[49m\u001b[43m(\u001b[49m\u001b[43mimg_path\u001b[49m\u001b[43m)\u001b[49m\n\u001b[32m     37\u001b[39m     \u001b[38;5;28;01mexcept\u001b[39;00m \u001b[38;5;167;01mException\u001b[39;00m \u001b[38;5;28;01mas\u001b[39;00m e:\n\u001b[32m     38\u001b[39m         \u001b[38;5;28mprint\u001b[39m(\u001b[33mf\u001b[39m\u001b[33m\"\u001b[39m\u001b[33mErro ao processar \u001b[39m\u001b[38;5;132;01m{\u001b[39;00mimg_path\u001b[38;5;132;01m}\u001b[39;00m\u001b[33m\"\u001b[39m)\n",
      "\u001b[36mCell\u001b[39m\u001b[36m \u001b[39m\u001b[32mIn[1]\u001b[39m\u001b[32m, line 16\u001b[39m, in \u001b[36mextract_text_pytesseract\u001b[39m\u001b[34m(img_path)\u001b[39m\n\u001b[32m     10\u001b[39m gray = cv2.cvtColor(img, cv2.COLOR_BGR2GRAY)\n\u001b[32m     11\u001b[39m gray = cv2.adaptiveThreshold(\n\u001b[32m     12\u001b[39m     gray, \u001b[32m255\u001b[39m,\n\u001b[32m     13\u001b[39m     cv2.ADAPTIVE_THRESH_GAUSSIAN_C,\n\u001b[32m     14\u001b[39m     cv2.THRESH_BINARY, \u001b[32m11\u001b[39m, \u001b[32m2\u001b[39m\n\u001b[32m     15\u001b[39m )\n\u001b[32m---> \u001b[39m\u001b[32m16\u001b[39m text = \u001b[43mpytesseract\u001b[49m\u001b[43m.\u001b[49m\u001b[43mimage_to_string\u001b[49m\u001b[43m(\u001b[49m\n\u001b[32m     17\u001b[39m \u001b[43m    \u001b[49m\u001b[43mgray\u001b[49m\u001b[43m,\u001b[49m\n\u001b[32m     18\u001b[39m \u001b[43m    \u001b[49m\u001b[43mlang\u001b[49m\u001b[43m=\u001b[49m\u001b[33;43m\"\u001b[39;49m\u001b[33;43meng\u001b[39;49m\u001b[33;43m\"\u001b[39;49m\u001b[43m,\u001b[49m\n\u001b[32m     19\u001b[39m \u001b[43m    \u001b[49m\u001b[43mconfig\u001b[49m\u001b[43m=\u001b[49m\u001b[33;43m\"\u001b[39;49m\u001b[33;43m--psm 6\u001b[39;49m\u001b[33;43m\"\u001b[39;49m\n\u001b[32m     20\u001b[39m \u001b[43m\u001b[49m\u001b[43m)\u001b[49m\n\u001b[32m     21\u001b[39m \u001b[38;5;28;01mreturn\u001b[39;00m text.strip()\n",
      "\u001b[36mFile \u001b[39m\u001b[32m~/.local/lib/python3.11/site-packages/pytesseract/pytesseract.py:486\u001b[39m, in \u001b[36mimage_to_string\u001b[39m\u001b[34m(image, lang, config, nice, output_type, timeout)\u001b[39m\n\u001b[32m    481\u001b[39m \u001b[38;5;250m\u001b[39m\u001b[33;03m\"\"\"\u001b[39;00m\n\u001b[32m    482\u001b[39m \u001b[33;03mReturns the result of a Tesseract OCR run on the provided image to string\u001b[39;00m\n\u001b[32m    483\u001b[39m \u001b[33;03m\"\"\"\u001b[39;00m\n\u001b[32m    484\u001b[39m args = [image, \u001b[33m'\u001b[39m\u001b[33mtxt\u001b[39m\u001b[33m'\u001b[39m, lang, config, nice, timeout]\n\u001b[32m--> \u001b[39m\u001b[32m486\u001b[39m \u001b[38;5;28;01mreturn\u001b[39;00m \u001b[43m{\u001b[49m\n\u001b[32m    487\u001b[39m \u001b[43m    \u001b[49m\u001b[43mOutput\u001b[49m\u001b[43m.\u001b[49m\u001b[43mBYTES\u001b[49m\u001b[43m:\u001b[49m\u001b[43m \u001b[49m\u001b[38;5;28;43;01mlambda\u001b[39;49;00m\u001b[43m:\u001b[49m\u001b[43m \u001b[49m\u001b[43mrun_and_get_output\u001b[49m\u001b[43m(\u001b[49m\u001b[43m*\u001b[49m\u001b[43m(\u001b[49m\u001b[43margs\u001b[49m\u001b[43m \u001b[49m\u001b[43m+\u001b[49m\u001b[43m \u001b[49m\u001b[43m[\u001b[49m\u001b[38;5;28;43;01mTrue\u001b[39;49;00m\u001b[43m]\u001b[49m\u001b[43m)\u001b[49m\u001b[43m)\u001b[49m\u001b[43m,\u001b[49m\n\u001b[32m    488\u001b[39m \u001b[43m    \u001b[49m\u001b[43mOutput\u001b[49m\u001b[43m.\u001b[49m\u001b[43mDICT\u001b[49m\u001b[43m:\u001b[49m\u001b[43m \u001b[49m\u001b[38;5;28;43;01mlambda\u001b[39;49;00m\u001b[43m:\u001b[49m\u001b[43m \u001b[49m\u001b[43m{\u001b[49m\u001b[33;43m'\u001b[39;49m\u001b[33;43mtext\u001b[39;49m\u001b[33;43m'\u001b[39;49m\u001b[43m:\u001b[49m\u001b[43m \u001b[49m\u001b[43mrun_and_get_output\u001b[49m\u001b[43m(\u001b[49m\u001b[43m*\u001b[49m\u001b[43margs\u001b[49m\u001b[43m)\u001b[49m\u001b[43m}\u001b[49m\u001b[43m,\u001b[49m\n\u001b[32m    489\u001b[39m \u001b[43m    \u001b[49m\u001b[43mOutput\u001b[49m\u001b[43m.\u001b[49m\u001b[43mSTRING\u001b[49m\u001b[43m:\u001b[49m\u001b[43m \u001b[49m\u001b[38;5;28;43;01mlambda\u001b[39;49;00m\u001b[43m:\u001b[49m\u001b[43m \u001b[49m\u001b[43mrun_and_get_output\u001b[49m\u001b[43m(\u001b[49m\u001b[43m*\u001b[49m\u001b[43margs\u001b[49m\u001b[43m)\u001b[49m\u001b[43m,\u001b[49m\n\u001b[32m    490\u001b[39m \u001b[43m\u001b[49m\u001b[43m}\u001b[49m\u001b[43m[\u001b[49m\u001b[43moutput_type\u001b[49m\u001b[43m]\u001b[49m\u001b[43m(\u001b[49m\u001b[43m)\u001b[49m\n",
      "\u001b[36mFile \u001b[39m\u001b[32m~/.local/lib/python3.11/site-packages/pytesseract/pytesseract.py:489\u001b[39m, in \u001b[36mimage_to_string.<locals>.<lambda>\u001b[39m\u001b[34m()\u001b[39m\n\u001b[32m    481\u001b[39m \u001b[38;5;250m\u001b[39m\u001b[33;03m\"\"\"\u001b[39;00m\n\u001b[32m    482\u001b[39m \u001b[33;03mReturns the result of a Tesseract OCR run on the provided image to string\u001b[39;00m\n\u001b[32m    483\u001b[39m \u001b[33;03m\"\"\"\u001b[39;00m\n\u001b[32m    484\u001b[39m args = [image, \u001b[33m'\u001b[39m\u001b[33mtxt\u001b[39m\u001b[33m'\u001b[39m, lang, config, nice, timeout]\n\u001b[32m    486\u001b[39m \u001b[38;5;28;01mreturn\u001b[39;00m {\n\u001b[32m    487\u001b[39m     Output.BYTES: \u001b[38;5;28;01mlambda\u001b[39;00m: run_and_get_output(*(args + [\u001b[38;5;28;01mTrue\u001b[39;00m])),\n\u001b[32m    488\u001b[39m     Output.DICT: \u001b[38;5;28;01mlambda\u001b[39;00m: {\u001b[33m'\u001b[39m\u001b[33mtext\u001b[39m\u001b[33m'\u001b[39m: run_and_get_output(*args)},\n\u001b[32m--> \u001b[39m\u001b[32m489\u001b[39m     Output.STRING: \u001b[38;5;28;01mlambda\u001b[39;00m: \u001b[43mrun_and_get_output\u001b[49m\u001b[43m(\u001b[49m\u001b[43m*\u001b[49m\u001b[43margs\u001b[49m\u001b[43m)\u001b[49m,\n\u001b[32m    490\u001b[39m }[output_type]()\n",
      "\u001b[36mFile \u001b[39m\u001b[32m~/.local/lib/python3.11/site-packages/pytesseract/pytesseract.py:341\u001b[39m, in \u001b[36mrun_and_get_output\u001b[39m\u001b[34m(image, extension, lang, config, nice, timeout, return_bytes)\u001b[39m\n\u001b[32m    332\u001b[39m \u001b[38;5;28;01mdef\u001b[39;00m\u001b[38;5;250m \u001b[39m\u001b[34mrun_and_get_output\u001b[39m(\n\u001b[32m    333\u001b[39m     image,\n\u001b[32m    334\u001b[39m     extension=\u001b[33m'\u001b[39m\u001b[33m'\u001b[39m,\n\u001b[32m   (...)\u001b[39m\u001b[32m    339\u001b[39m     return_bytes=\u001b[38;5;28;01mFalse\u001b[39;00m,\n\u001b[32m    340\u001b[39m ):\n\u001b[32m--> \u001b[39m\u001b[32m341\u001b[39m \u001b[43m    \u001b[49m\u001b[38;5;28;43;01mwith\u001b[39;49;00m\u001b[43m \u001b[49m\u001b[43msave\u001b[49m\u001b[43m(\u001b[49m\u001b[43mimage\u001b[49m\u001b[43m)\u001b[49m\u001b[43m \u001b[49m\u001b[38;5;28;43;01mas\u001b[39;49;00m\u001b[43m \u001b[49m\u001b[43m(\u001b[49m\u001b[43mtemp_name\u001b[49m\u001b[43m,\u001b[49m\u001b[43m \u001b[49m\u001b[43minput_filename\u001b[49m\u001b[43m)\u001b[49m\u001b[43m:\u001b[49m\n\u001b[32m    342\u001b[39m \u001b[43m        \u001b[49m\u001b[43mkwargs\u001b[49m\u001b[43m \u001b[49m\u001b[43m=\u001b[49m\u001b[43m \u001b[49m\u001b[43m{\u001b[49m\n\u001b[32m    343\u001b[39m \u001b[43m            \u001b[49m\u001b[33;43m'\u001b[39;49m\u001b[33;43minput_filename\u001b[39;49m\u001b[33;43m'\u001b[39;49m\u001b[43m:\u001b[49m\u001b[43m \u001b[49m\u001b[43minput_filename\u001b[49m\u001b[43m,\u001b[49m\n\u001b[32m    344\u001b[39m \u001b[43m            \u001b[49m\u001b[33;43m'\u001b[39;49m\u001b[33;43moutput_filename_base\u001b[39;49m\u001b[33;43m'\u001b[39;49m\u001b[43m:\u001b[49m\u001b[43m \u001b[49m\u001b[43mtemp_name\u001b[49m\u001b[43m,\u001b[49m\n\u001b[32m   (...)\u001b[39m\u001b[32m    349\u001b[39m \u001b[43m            \u001b[49m\u001b[33;43m'\u001b[39;49m\u001b[33;43mtimeout\u001b[39;49m\u001b[33;43m'\u001b[39;49m\u001b[43m:\u001b[49m\u001b[43m \u001b[49m\u001b[43mtimeout\u001b[49m\u001b[43m,\u001b[49m\n\u001b[32m    350\u001b[39m \u001b[43m        \u001b[49m\u001b[43m}\u001b[49m\n\u001b[32m    352\u001b[39m \u001b[43m        \u001b[49m\u001b[43mrun_tesseract\u001b[49m\u001b[43m(\u001b[49m\u001b[43m*\u001b[49m\u001b[43m*\u001b[49m\u001b[43mkwargs\u001b[49m\u001b[43m)\u001b[49m\n",
      "\u001b[36mFile \u001b[39m\u001b[32m/usr/lib/python3.11/contextlib.py:137\u001b[39m, in \u001b[36m_GeneratorContextManager.__enter__\u001b[39m\u001b[34m(self)\u001b[39m\n\u001b[32m    135\u001b[39m \u001b[38;5;28;01mdel\u001b[39;00m \u001b[38;5;28mself\u001b[39m.args, \u001b[38;5;28mself\u001b[39m.kwds, \u001b[38;5;28mself\u001b[39m.func\n\u001b[32m    136\u001b[39m \u001b[38;5;28;01mtry\u001b[39;00m:\n\u001b[32m--> \u001b[39m\u001b[32m137\u001b[39m     \u001b[38;5;28;01mreturn\u001b[39;00m \u001b[38;5;28mnext\u001b[39m(\u001b[38;5;28mself\u001b[39m.gen)\n\u001b[32m    138\u001b[39m \u001b[38;5;28;01mexcept\u001b[39;00m \u001b[38;5;167;01mStopIteration\u001b[39;00m:\n\u001b[32m    139\u001b[39m     \u001b[38;5;28;01mraise\u001b[39;00m \u001b[38;5;167;01mRuntimeError\u001b[39;00m(\u001b[33m\"\u001b[39m\u001b[33mgenerator didn\u001b[39m\u001b[33m'\u001b[39m\u001b[33mt yield\u001b[39m\u001b[33m\"\u001b[39m) \u001b[38;5;28;01mfrom\u001b[39;00m\u001b[38;5;250m \u001b[39m\u001b[38;5;28;01mNone\u001b[39;00m\n",
      "\u001b[36mFile \u001b[39m\u001b[32m~/.local/lib/python3.11/site-packages/pytesseract/pytesseract.py:216\u001b[39m, in \u001b[36msave\u001b[39m\u001b[34m(image)\u001b[39m\n\u001b[32m    214\u001b[39m         image, extension = prepare(image)\n\u001b[32m    215\u001b[39m         input_file_name = \u001b[33mf\u001b[39m\u001b[33m'\u001b[39m\u001b[38;5;132;01m{\u001b[39;00mf.name\u001b[38;5;132;01m}\u001b[39;00m\u001b[33m_input\u001b[39m\u001b[38;5;132;01m{\u001b[39;00mextsep\u001b[38;5;132;01m}\u001b[39;00m\u001b[38;5;132;01m{\u001b[39;00mextension\u001b[38;5;132;01m}\u001b[39;00m\u001b[33m'\u001b[39m\n\u001b[32m--> \u001b[39m\u001b[32m216\u001b[39m         \u001b[43mimage\u001b[49m\u001b[43m.\u001b[49m\u001b[43msave\u001b[49m\u001b[43m(\u001b[49m\u001b[43minput_file_name\u001b[49m\u001b[43m,\u001b[49m\u001b[43m \u001b[49m\u001b[38;5;28;43mformat\u001b[39;49m\u001b[43m=\u001b[49m\u001b[43mimage\u001b[49m\u001b[43m.\u001b[49m\u001b[43mformat\u001b[49m\u001b[43m)\u001b[49m\n\u001b[32m    217\u001b[39m         \u001b[38;5;28;01myield\u001b[39;00m f.name, input_file_name\n\u001b[32m    218\u001b[39m \u001b[38;5;28;01mfinally\u001b[39;00m:\n",
      "\u001b[36mFile \u001b[39m\u001b[32m/usr/lib/python3/dist-packages/PIL/Image.py:2459\u001b[39m, in \u001b[36mImage.save\u001b[39m\u001b[34m(self, fp, format, **params)\u001b[39m\n\u001b[32m   2456\u001b[39m         fp = builtins.open(filename, \u001b[33m\"\u001b[39m\u001b[33mw+b\u001b[39m\u001b[33m\"\u001b[39m)\n\u001b[32m   2458\u001b[39m \u001b[38;5;28;01mtry\u001b[39;00m:\n\u001b[32m-> \u001b[39m\u001b[32m2459\u001b[39m     \u001b[43msave_handler\u001b[49m\u001b[43m(\u001b[49m\u001b[38;5;28;43mself\u001b[39;49m\u001b[43m,\u001b[49m\u001b[43m \u001b[49m\u001b[43mfp\u001b[49m\u001b[43m,\u001b[49m\u001b[43m \u001b[49m\u001b[43mfilename\u001b[49m\u001b[43m)\u001b[49m\n\u001b[32m   2460\u001b[39m \u001b[38;5;28;01mexcept\u001b[39;00m \u001b[38;5;167;01mException\u001b[39;00m:\n\u001b[32m   2461\u001b[39m     \u001b[38;5;28;01mif\u001b[39;00m open_fp:\n",
      "\u001b[36mFile \u001b[39m\u001b[32m/usr/lib/python3/dist-packages/PIL/PngImagePlugin.py:1412\u001b[39m, in \u001b[36m_save\u001b[39m\u001b[34m(im, fp, filename, chunk, save_all)\u001b[39m\n\u001b[32m   1408\u001b[39m     im = _write_multiple_frames(\n\u001b[32m   1409\u001b[39m         im, fp, chunk, rawmode, default_image, append_images\n\u001b[32m   1410\u001b[39m     )\n\u001b[32m   1411\u001b[39m \u001b[38;5;28;01mif\u001b[39;00m im:\n\u001b[32m-> \u001b[39m\u001b[32m1412\u001b[39m     \u001b[43mImageFile\u001b[49m\u001b[43m.\u001b[49m\u001b[43m_save\u001b[49m\u001b[43m(\u001b[49m\u001b[43mim\u001b[49m\u001b[43m,\u001b[49m\u001b[43m \u001b[49m\u001b[43m_idat\u001b[49m\u001b[43m(\u001b[49m\u001b[43mfp\u001b[49m\u001b[43m,\u001b[49m\u001b[43m \u001b[49m\u001b[43mchunk\u001b[49m\u001b[43m)\u001b[49m\u001b[43m,\u001b[49m\u001b[43m \u001b[49m\u001b[43m[\u001b[49m\u001b[43m(\u001b[49m\u001b[33;43m\"\u001b[39;49m\u001b[33;43mzip\u001b[39;49m\u001b[33;43m\"\u001b[39;49m\u001b[43m,\u001b[49m\u001b[43m \u001b[49m\u001b[43m(\u001b[49m\u001b[32;43m0\u001b[39;49m\u001b[43m,\u001b[49m\u001b[43m \u001b[49m\u001b[32;43m0\u001b[39;49m\u001b[43m)\u001b[49m\u001b[43m \u001b[49m\u001b[43m+\u001b[49m\u001b[43m \u001b[49m\u001b[43mim\u001b[49m\u001b[43m.\u001b[49m\u001b[43msize\u001b[49m\u001b[43m,\u001b[49m\u001b[43m \u001b[49m\u001b[32;43m0\u001b[39;49m\u001b[43m,\u001b[49m\u001b[43m \u001b[49m\u001b[43mrawmode\u001b[49m\u001b[43m)\u001b[49m\u001b[43m]\u001b[49m\u001b[43m)\u001b[49m\n\u001b[32m   1414\u001b[39m \u001b[38;5;28;01mif\u001b[39;00m info:\n\u001b[32m   1415\u001b[39m     \u001b[38;5;28;01mfor\u001b[39;00m info_chunk \u001b[38;5;129;01min\u001b[39;00m info.chunks:\n",
      "\u001b[36mFile \u001b[39m\u001b[32m/usr/lib/python3/dist-packages/PIL/ImageFile.py:540\u001b[39m, in \u001b[36m_save\u001b[39m\u001b[34m(im, fp, tile, bufsize)\u001b[39m\n\u001b[32m    538\u001b[39m     _encode_tile(im, fp, tile, bufsize, fh)\n\u001b[32m    539\u001b[39m \u001b[38;5;28;01mexcept\u001b[39;00m (\u001b[38;5;167;01mAttributeError\u001b[39;00m, io.UnsupportedOperation) \u001b[38;5;28;01mas\u001b[39;00m exc:\n\u001b[32m--> \u001b[39m\u001b[32m540\u001b[39m     \u001b[43m_encode_tile\u001b[49m\u001b[43m(\u001b[49m\u001b[43mim\u001b[49m\u001b[43m,\u001b[49m\u001b[43m \u001b[49m\u001b[43mfp\u001b[49m\u001b[43m,\u001b[49m\u001b[43m \u001b[49m\u001b[43mtile\u001b[49m\u001b[43m,\u001b[49m\u001b[43m \u001b[49m\u001b[43mbufsize\u001b[49m\u001b[43m,\u001b[49m\u001b[43m \u001b[49m\u001b[38;5;28;43;01mNone\u001b[39;49;00m\u001b[43m,\u001b[49m\u001b[43m \u001b[49m\u001b[43mexc\u001b[49m\u001b[43m)\u001b[49m\n\u001b[32m    541\u001b[39m \u001b[38;5;28;01mif\u001b[39;00m \u001b[38;5;28mhasattr\u001b[39m(fp, \u001b[33m\"\u001b[39m\u001b[33mflush\u001b[39m\u001b[33m\"\u001b[39m):\n\u001b[32m    542\u001b[39m     fp.flush()\n",
      "\u001b[36mFile \u001b[39m\u001b[32m/usr/lib/python3/dist-packages/PIL/ImageFile.py:559\u001b[39m, in \u001b[36m_encode_tile\u001b[39m\u001b[34m(im, fp, tile, bufsize, fh, exc)\u001b[39m\n\u001b[32m    556\u001b[39m \u001b[38;5;28;01mif\u001b[39;00m exc:\n\u001b[32m    557\u001b[39m     \u001b[38;5;66;03m# compress to Python file-compatible object\u001b[39;00m\n\u001b[32m    558\u001b[39m     \u001b[38;5;28;01mwhile\u001b[39;00m \u001b[38;5;28;01mTrue\u001b[39;00m:\n\u001b[32m--> \u001b[39m\u001b[32m559\u001b[39m         errcode, data = \u001b[43mencoder\u001b[49m\u001b[43m.\u001b[49m\u001b[43mencode\u001b[49m\u001b[43m(\u001b[49m\u001b[43mbufsize\u001b[49m\u001b[43m)\u001b[49m[\u001b[32m1\u001b[39m:]\n\u001b[32m    560\u001b[39m         fp.write(data)\n\u001b[32m    561\u001b[39m         \u001b[38;5;28;01mif\u001b[39;00m errcode:\n",
      "\u001b[31mKeyboardInterrupt\u001b[39m: "
     ]
    }
   ],
   "source": [
    "import os\n",
    "import pandas as pd\n",
    "import cv2\n",
    "import pytesseract\n",
    "from PIL import Image\n",
    "from tqdm import tqdm\n",
    "\n",
    "def extract_text_pytesseract(img_path):\n",
    "    img = cv2.imread(img_path)\n",
    "    gray = cv2.cvtColor(img, cv2.COLOR_BGR2GRAY)\n",
    "    gray = cv2.adaptiveThreshold(\n",
    "        gray, 255,\n",
    "        cv2.ADAPTIVE_THRESH_GAUSSIAN_C,\n",
    "        cv2.THRESH_BINARY, 11, 2\n",
    "    )\n",
    "    text = pytesseract.image_to_string(\n",
    "        gray,\n",
    "        lang=\"eng\",\n",
    "        config=\"--psm 6\"\n",
    "    )\n",
    "    return text.strip()\n",
    "\n",
    "# Ventile 1 e 20\n",
    "df = pd.read_csv(\"./complete_viral_dataset.csv\")\n",
    "df = df[df[\"Ventile\"].isin([1, 20])].reset_index(drop=True)\n",
    "df[\"ocr_text\"] = \"\"\n",
    "\n",
    "# Processando o OCR\n",
    "root_dir = \"reddit-virality-dataset\"\n",
    "for idx, row in tqdm(df.iterrows(), total=len(df)):\n",
    "    ventile  = row[\"Ventile\"]\n",
    "    filename = row[\"Filename\"]\n",
    "    img_path = os.path.join(root_dir, f\"Ventile_{ventile}\", filename)\n",
    "    if os.path.isfile(img_path):\n",
    "        try:\n",
    "            df.at[idx, \"ocr_text\"] = extract_text_pytesseract(img_path)\n",
    "        except Exception as e:\n",
    "            print(f\"Erro ao processar {img_path}\")\n",
    "            print(\"Erro:\", {e})\n",
    "            df.at[idx, \"ocr_text\"] = \"\"\n",
    "    else:\n",
    "        df.at[idx, \"ocr_text\"] = \"\"\n",
    "        \n",
    "df.to_csv(\"complete_viral_dataset_ventiles1_20_with_ocr.csv\", index=False)\n",
    "print(\"Novo CSV gerado: complete_viral_dataset_ventiles1_20_with_ocr.csv\")"
   ]
  },
  {
   "cell_type": "code",
   "execution_count": null,
   "metadata": {},
   "outputs": [],
   "source": []
  }
 ],
 "metadata": {
  "kernelspec": {
   "display_name": "usr",
   "language": "python",
   "name": "python3"
  },
  "language_info": {
   "codemirror_mode": {
    "name": "ipython",
    "version": 3
   },
   "file_extension": ".py",
   "mimetype": "text/x-python",
   "name": "python",
   "nbconvert_exporter": "python",
   "pygments_lexer": "ipython3",
   "version": "3.11.8"
  }
 },
 "nbformat": 4,
 "nbformat_minor": 2
}
