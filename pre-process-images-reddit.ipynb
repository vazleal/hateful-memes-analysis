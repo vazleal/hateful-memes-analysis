{
 "cells": [
  {
   "cell_type": "code",
   "execution_count": 1,
   "metadata": {},
   "outputs": [
    {
     "name": "stdout",
     "output_type": "stream",
     "text": [
      "Reading package lists... Done\n",
      "E: Could not open lock file /var/lib/apt/lists/lock - open (13: Permission denied)\n",
      "E: Unable to lock directory /var/lib/apt/lists/\n",
      "W: Problem unlinking the file /var/cache/apt/pkgcache.bin - RemoveCaches (13: Permission denied)\n",
      "W: Problem unlinking the file /var/cache/apt/srcpkgcache.bin - RemoveCaches (13: Permission denied)\n",
      "Defaulting to user installation because normal site-packages is not writeable\n",
      "Collecting pytesseract\n",
      "  Downloading pytesseract-0.3.13-py3-none-any.whl.metadata (11 kB)\n",
      "Collecting opencv-python\n",
      "  Downloading opencv_python-4.11.0.86-cp37-abi3-manylinux_2_17_x86_64.manylinux2014_x86_64.whl.metadata (20 kB)\n",
      "Requirement already satisfied: pillow in /usr/lib/python3/dist-packages (10.3.0)\n",
      "Requirement already satisfied: tqdm in /usr/lib/python3/dist-packages (4.66.4)\n",
      "Requirement already satisfied: packaging>=21.3 in /home/kali/.local/lib/python3.11/site-packages (from pytesseract) (25.0)\n",
      "Requirement already satisfied: numpy>=1.21.2 in /usr/lib/python3/dist-packages (from opencv-python) (1.26.4)\n",
      "Downloading pytesseract-0.3.13-py3-none-any.whl (14 kB)\n",
      "Downloading opencv_python-4.11.0.86-cp37-abi3-manylinux_2_17_x86_64.manylinux2014_x86_64.whl (63.0 MB)\n",
      "\u001b[2K   \u001b[38;2;114;156;31m━━━━━━━━━━━━━━━━━━━━━━━━━━━━━━━━━━━━━━━━\u001b[0m \u001b[32m63.0/63.0 MB\u001b[0m \u001b[31m8.4 MB/s\u001b[0m eta \u001b[36m0:00:00\u001b[0mm eta \u001b[36m0:00:01\u001b[0mm36m0:00:01\u001b[0mm\n",
      "\u001b[?25hInstalling collected packages: pytesseract, opencv-python\n",
      "Successfully installed opencv-python-4.11.0.86 pytesseract-0.3.13\n"
     ]
    }
   ],
   "source": [
    "!apt-get update && apt-get install -y tesseract-ocr\n",
    "!pip install pytesseract opencv-python pillow tqdm"
   ]
  },
  {
   "cell_type": "code",
   "execution_count": 2,
   "metadata": {},
   "outputs": [
    {
     "name": "stderr",
     "output_type": "stream",
     "text": [
      "100%|██████████| 1700/1700 [01:40<00:00, 16.89it/s]\n"
     ]
    },
    {
     "name": "stdout",
     "output_type": "stream",
     "text": [
      "Novo CSV gerado: complete_viral_dataset_ventiles1_20_with_ocr.csv\n"
     ]
    }
   ],
   "source": [
    "import os\n",
    "import pandas as pd\n",
    "import cv2\n",
    "import pytesseract\n",
    "from PIL import Image\n",
    "from tqdm import tqdm\n",
    "\n",
    "def extract_text_pytesseract(img_path):\n",
    "    img = cv2.imread(img_path)\n",
    "    gray = cv2.cvtColor(img, cv2.COLOR_BGR2GRAY)\n",
    "    gray = cv2.adaptiveThreshold(\n",
    "        gray, 255,\n",
    "        cv2.ADAPTIVE_THRESH_GAUSSIAN_C,\n",
    "        cv2.THRESH_BINARY, 11, 2\n",
    "    )\n",
    "    text = pytesseract.image_to_string(\n",
    "        gray,\n",
    "        lang=\"eng\",\n",
    "        config=\"--psm 6\"\n",
    "    )\n",
    "    return text.strip()\n",
    "\n",
    "# Ventile 1 e 20\n",
    "df = pd.read_csv(\"./reddit-memes-virality-prediction/complete_viral_dataset.csv\")\n",
    "df = df[df[\"Ventile\"].isin([1, 20])].reset_index(drop=True)\n",
    "df[\"ocr_text\"] = \"\"\n",
    "\n",
    "# Processando o OCR\n",
    "root_dir = \"reddit-virality-dataset\"\n",
    "for idx, row in tqdm(df.iterrows(), total=len(df)):\n",
    "    ventile  = row[\"Ventile\"]\n",
    "    filename = row[\"Filename\"]\n",
    "    img_path = os.path.join(root_dir, f\"Ventile_{ventile}\", filename)\n",
    "    if os.path.isfile(img_path):\n",
    "        try:\n",
    "            df.at[idx, \"ocr_text\"] = extract_text_pytesseract(img_path)\n",
    "        except Exception:\n",
    "            df.at[idx, \"ocr_text\"] = \"\"\n",
    "    else:\n",
    "        df.at[idx, \"ocr_text\"] = \"\"\n",
    "        \n",
    "df.to_csv(\"complete_viral_dataset_ventiles1_20_with_ocr.csv\", index=False)\n",
    "print(\"Novo CSV gerado: complete_viral_dataset_ventiles1_20_with_ocr.csv\")"
   ]
  }
 ],
 "metadata": {
  "kernelspec": {
   "display_name": "usr",
   "language": "python",
   "name": "python3"
  },
  "language_info": {
   "codemirror_mode": {
    "name": "ipython",
    "version": 3
   },
   "file_extension": ".py",
   "mimetype": "text/x-python",
   "name": "python",
   "nbconvert_exporter": "python",
   "pygments_lexer": "ipython3",
   "version": "3.11.8"
  }
 },
 "nbformat": 4,
 "nbformat_minor": 2
}
